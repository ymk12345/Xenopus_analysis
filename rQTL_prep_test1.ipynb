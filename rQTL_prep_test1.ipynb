{
 "cells": [
  {
   "cell_type": "code",
   "execution_count": 68,
   "metadata": {},
   "outputs": [],
   "source": [
    "import pandas as pd\n",
    "from glob import glob\n",
    "import os\n",
    "from datetime import datetime as dt\n",
    "import numpy as np\n",
    "import subprocess\n",
    "try:\n",
    "    from StringIO import StringIO\n",
    "except ImportError:\n",
    "    from io import StringIO"
   ]
  },
  {
   "cell_type": "code",
   "execution_count": 69,
   "metadata": {},
   "outputs": [],
   "source": [
    "# From Thinned Data (Per Sample); condense it further using this:\n",
    "data_thinned=\"/moto/ziab/users/yk2840/Frog_workspace/HMM/Ancestry_nofilter_results/posterior/data_thinned_filter_frac.2_072919.txt\"\n",
    "\n",
    "test = pd.read_csv(data_thinned, header = None, sep='\\t')\n",
    "\n"
   ]
  },
  {
   "cell_type": "code",
   "execution_count": 70,
   "metadata": {},
   "outputs": [
    {
     "name": "stderr",
     "output_type": "stream",
     "text": [
      "/moto/opt/anaconda3-5.3.1/lib/python3.7/site-packages/IPython/core/interactiveshell.py:2785: DtypeWarning: Columns (1,2,3,4) have mixed types. Specify dtype option on import or set low_memory=False.\n",
      "  interactivity=interactivity, compiler=compiler, result=result)\n"
     ]
    }
   ],
   "source": [
    "snp_thinned=\"/moto/ziab/users/yk2840/Frog_workspace/HMM/Ancestry_nofilter_results/posterior/snps_thinned_frac0.2.txt\"\n",
    "ac_panel=\"/moto/ziab/users/yk2840/Frog_workspace/HMM/Ancestry_nofilter_results/posterior/F8254.posterior\"\n",
    "outdir='/moto/ziab/users/yk2840/Frog_workspace/HMM/Ancestry_nofilter_results/posterior/'\n",
    "\n",
    "snps = pd.read_csv(snp_thinned, header = None, sep='\\t', names = 'i')\n",
    "snps=snps.sort_values(by='i')\n",
    "ac = pd.read_csv(ac_panel, header = None, sep='\\t')\n",
    "ac = ac.iloc[snps.iloc[:,0],0:2]\n",
    "\n",
    "ac.to_csv(outdir+'chrom_pos_prior_across_sampleprune.csv', sep=',', index=False, header=False)\n",
    "\n"
   ]
  },
  {
   "cell_type": "code",
   "execution_count": 71,
   "metadata": {},
   "outputs": [],
   "source": [
    "difffrac = .01\n",
    "gen_only=test.drop(test.columns[0], axis=1)\n",
    "\n",
    "\n",
    "central_markers = gen_only.values[:, 1:-1]\n",
    "left_markers = gen_only.values[:, :-2]\n",
    "right_markers = gen_only.values[:, 2:]\n",
    "\n",
    "\n",
    "left_diff = sum(np.where((central_markers != left_markers) & (left_markers!=\"-\") & (central_markers!=\"-\"), 1, 0))\n",
    "right_diff = sum(np.where((central_markers != right_markers) & (right_markers!=\"-\") & (central_markers!=\"-\"), 1, 0))\n",
    "\n",
    "left_total = sum(np.where((central_markers != \"-\") & (left_markers!=\"-\"), 1, 0))\n",
    "right_total = sum(np.where((central_markers != \"-\") & (right_markers!=\"-\"), 1, 0))\n",
    "\n",
    "indices = np.where(((right_diff/right_total)>=difffrac) | ((left_diff/left_total) >=difffrac))\n",
    "\n",
    "newdf = gen_only[gen_only.columns[indices]]\n",
    "newdf.to_csv(outdir+'samples_post_across_sampleprune.csv', sep=',', index=False, header=False)\n"
   ]
  },
  {
   "cell_type": "code",
   "execution_count": 72,
   "metadata": {},
   "outputs": [],
   "source": [
    "ac = np.array(ac)\n",
    "ac1 = ac[indices, :]\n",
    "ac1=pd.DataFrame(ac1[0])\n",
    "\n",
    "ac1.to_csv(outdir+'chrom_pos_post_across_sampleprune.csv', sep=',', index=False, header=False)\n"
   ]
  },
  {
   "cell_type": "code",
   "execution_count": 73,
   "metadata": {},
   "outputs": [],
   "source": [
    "# Add the column heading to the top:\n",
    "ac1 = ac1.T\n",
    "ac1.columns = newdf.columns\n",
    "\n",
    "new_df_headers = pd.concat([ac1,newdf])\n",
    "new_df_headers.to_csv(outdir+'sample_headers_post_across_sampleprune.csv', sep=',', index=False, header=False)\n"
   ]
  },
  {
   "cell_type": "code",
   "execution_count": 48,
   "metadata": {},
   "outputs": [
    {
     "name": "stdout",
     "output_type": "stream",
     "text": [
      "Making genetic map.\n"
     ]
    }
   ],
   "source": [
    "panel_file=\"/moto/ziab/users/yk2840/Frog_workspace/HMM/Ancestry_nofilter_results/ancestry_panel_0removed_panel.txt\"\n",
    "print('Making genetic map.')\n",
    "df = pd.read_csv(panel_file, sep='\\t', header = None) # read into pandas dataframe\n",
    "df = df.iloc[snps.iloc[:,0]-1,[0,1,6]]\n",
    "df = np.array(df)\n",
    "df = pd.DataFrame(df[indices, :][0])\n",
    "df.columns = ['chr', 'position_in_bp', 'morgans']\n",
    "df['marker']=df['chr'].astype(str)+':'+df['position_in_bp'].astype(str) # make list of markers in format chrom:position\n",
    "df['cM'] = df['morgans'].map(lambda morgans: morgans) #convert from morgans to cM\n",
    "df['pos'] = df.groupby('chr')['cM'].cumsum() #get cumulative sum of centimorgans for each chromosome\n",
    "df = df[['marker','chr','pos']] #subset only marker, chromosome, and pos (in cM)\n",
    "\n",
    "df.to_csv(outdir+'/F2_gmap_20190729.csv', sep=',', index=False, header=True)\n",
    "\n",
    "\n",
    "\n"
   ]
  }
 ],
 "metadata": {
  "kernelspec": {
   "display_name": "Python 3",
   "language": "python",
   "name": "python3"
  },
  "language_info": {
   "codemirror_mode": {
    "name": "ipython",
    "version": 3
   },
   "file_extension": ".py",
   "mimetype": "text/x-python",
   "name": "python",
   "nbconvert_exporter": "python",
   "pygments_lexer": "ipython3",
   "version": "3.7.0"
  }
 },
 "nbformat": 4,
 "nbformat_minor": 2
}
